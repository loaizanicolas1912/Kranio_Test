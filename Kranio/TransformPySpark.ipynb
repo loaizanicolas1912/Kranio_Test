{
 "cells": [
  {
   "cell_type": "code",
   "execution_count": 1,
   "metadata": {},
   "outputs": [],
   "source": [
    "import findspark\n",
    "findspark.init()"
   ]
  },
  {
   "cell_type": "code",
   "execution_count": 2,
   "metadata": {},
   "outputs": [],
   "source": [
    "from pyspark.sql import SparkSession\n",
    "from pyspark import SparkContext\n",
    "from pyspark.sql import SQLContext \n",
    "from pyspark.sql.window import Window\n",
    "from pyspark.sql.types import DoubleType, IntegerType, StringType, DateType\n",
    "from pyspark.sql import functions as F"
   ]
  },
  {
   "cell_type": "code",
   "execution_count": 3,
   "metadata": {},
   "outputs": [],
   "source": [
    "spark = SparkSession.builder.appName(\"Kranio\")\\\n",
    "    .config('spark.master','local[3]')\\\n",
    "    .config('spark.shuffle.sql.partitions',1)\\\n",
    "    .getOrCreate()"
   ]
  },
  {
   "cell_type": "code",
   "execution_count": 4,
   "metadata": {},
   "outputs": [],
   "source": [
    "df_movies = spark.read.csv(\"C:/Users/Usurio/Desktop/kranio/movies.csv\",header=True)"
   ]
  },
  {
   "cell_type": "code",
   "execution_count": 5,
   "metadata": {
    "scrolled": false
   },
   "outputs": [
    {
     "name": "stdout",
     "output_type": "stream",
     "text": [
      "root\n",
      " |-- id: string (nullable = true)\n",
      " |-- title: string (nullable = true)\n",
      " |-- genres: string (nullable = true)\n",
      " |-- original_language: string (nullable = true)\n",
      " |-- overview: string (nullable = true)\n",
      " |-- popularity: string (nullable = true)\n",
      " |-- production_companies: string (nullable = true)\n",
      " |-- release_date: string (nullable = true)\n",
      " |-- budget: string (nullable = true)\n",
      " |-- revenue: string (nullable = true)\n",
      " |-- runtime: string (nullable = true)\n",
      " |-- status: string (nullable = true)\n",
      " |-- tagline: string (nullable = true)\n",
      " |-- vote_average: string (nullable = true)\n",
      " |-- vote_count: string (nullable = true)\n",
      " |-- credits: string (nullable = true)\n",
      " |-- keywords: string (nullable = true)\n",
      " |-- poster_path: string (nullable = true)\n",
      " |-- backdrop_path: string (nullable = true)\n",
      " |-- recommendations: string (nullable = true)\n",
      "\n"
     ]
    }
   ],
   "source": [
    "df_movies.printSchema()"
   ]
  },
  {
   "cell_type": "code",
   "execution_count": 6,
   "metadata": {
    "scrolled": true
   },
   "outputs": [],
   "source": [
    "df_movies = df_movies.withColumn('budget', F.col('budget').cast(DoubleType())).withColumn('revenue', F.col('revenue').cast(DoubleType()))\\\n",
    "            .withColumn('release_date', F.col('release_date').cast(DateType()))"
   ]
  },
  {
   "cell_type": "code",
   "execution_count": 7,
   "metadata": {},
   "outputs": [],
   "source": [
    "df_movies = df_movies.withColumn(\"profitable\",((F.col(\"revenue\")/F.col(\"budget\"))*100))\n",
    "df_movies = df_movies.withColumn(\"profitable\", F.round(df_movies['profitable'],1))\n",
    "df_movies = df_movies.withColumn(\"year\", F.year('release_date')).withColumn('month', F.month('release_date'))"
   ]
  },
  {
   "cell_type": "code",
   "execution_count": 8,
   "metadata": {},
   "outputs": [],
   "source": [
    "df_movies = df_movies.withColumn('semester', F.when(F.col('month').between(1,6),'1')\\\n",
    "            .when(F.col('month').between(7,12),'2'))"
   ]
  },
  {
   "cell_type": "code",
   "execution_count": 29,
   "metadata": {
    "scrolled": true
   },
   "outputs": [],
   "source": [
    "P1= df_movies.groupBy('year','semester').agg(\n",
    "    F.max(F.struct('profitable', 'title')).alias('col')\n",
    ").select('year','semester', 'col.*')"
   ]
  },
  {
   "cell_type": "code",
   "execution_count": 54,
   "metadata": {},
   "outputs": [],
   "source": [
    "P2= df_movies.groupBy('year','genres').agg(\n",
    "    F.mean('profitable').alias('Avg profitable')\n",
    ").na.drop(subset=[\"Avg profitable\"]).filter(F.col('Avg profitable')!=0)"
   ]
  },
  {
   "cell_type": "code",
   "execution_count": 96,
   "metadata": {},
   "outputs": [],
   "source": [
    "fivegenres = ['Drama-Romance','Thriller-Drama','Comedy-Action','Drama-Horror','Horror']\n",
    "\n",
    "P4 = df_movies.groupBy('genres','title').agg(\n",
    "    F.mean('profitable').alias('avg profitable')\n",
    ")\n",
    "\n",
    "window = Window.partitionBy(P4['genres']).orderBy(P4['avg profitable'].desc())\n",
    "P3 = P4.select('title','genres','avg profitable', F.rank().over(window).alias('rank'))\\\n",
    ".filter((F.col('rank') <= 10) & (F.col('Avg profitable')!=0) & (F.col('genres').isin(fivegenres)))"
   ]
  },
  {
   "cell_type": "code",
   "execution_count": 125,
   "metadata": {},
   "outputs": [],
   "source": [
    "P4= df_movies.groupBy('month').agg(\n",
    "    F.mean('popularity').alias('Avg popularity'))"
   ]
  },
  {
   "cell_type": "code",
   "execution_count": 126,
   "metadata": {
    "scrolled": true
   },
   "outputs": [],
   "source": [
    "P5 = df_movies.groupBy('year','genres').agg(\n",
    "      F.count('release_date').alias('Total release_date')\n",
    ").filter((F.col('year')> F.year(F.current_date())-6) & (F.col('year')< F.year(F.current_date()))).orderBy('year')"
   ]
  },
  {
   "cell_type": "code",
   "execution_count": 131,
   "metadata": {},
   "outputs": [],
   "source": [
    "P1.repartition(1).write.csv(\"C:/Users/Usurio/Desktop/kranio/datap1.csv\")\n",
    "P2.repartition(1).write.csv(\"C:/Users/Usurio/Desktop/kranio/datap2.csv\")\n",
    "P3.repartition(1).write.csv(\"C:/Users/Usurio/Desktop/kranio/datap3.csv\")\n",
    "P4.repartition(1).write.csv(\"C:/Users/Usurio/Desktop/kranio/datap4.csv\")\n",
    "P5.repartition(1).write.csv(\"C:/Users/Usurio/Desktop/kranio/datap5.csv\")"
   ]
  }
 ],
 "metadata": {
  "kernelspec": {
   "display_name": "Python 3",
   "language": "python",
   "name": "python3"
  },
  "language_info": {
   "codemirror_mode": {
    "name": "ipython",
    "version": 3
   },
   "file_extension": ".py",
   "mimetype": "text/x-python",
   "name": "python",
   "nbconvert_exporter": "python",
   "pygments_lexer": "ipython3",
   "version": "3.7.6"
  }
 },
 "nbformat": 4,
 "nbformat_minor": 4
}
